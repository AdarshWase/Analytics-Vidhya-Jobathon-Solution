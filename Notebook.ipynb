{
 "cells": [
  {
   "cell_type": "code",
   "execution_count": 1,
   "id": "a2373f96",
   "metadata": {},
   "outputs": [],
   "source": [
    "import numpy as np\n",
    "import pandas as pd\n",
    "import seaborn as sns\n",
    "import matplotlib.pyplot as plt\n",
    "\n",
    "from xgboost import XGBRegressor\n",
    "from lightgbm import LGBMRegressor\n",
    "from scipy.special import inv_boxcox\n",
    "from catboost import CatBoostRegressor\n",
    "from scipy.stats import boxcox, zscore\n",
    "from sklearn.metrics import r2_score, mean_squared_error\n",
    "from sklearn.model_selection import train_test_split, KFold\n",
    "from sklearn.preprocessing import StandardScaler, MinMaxScaler, RobustScaler\n",
    "\n",
    "sns.set_style(style = 'white')\n",
    "pd.set_option('display.max_columns', None)"
   ]
  },
  {
   "cell_type": "code",
   "execution_count": 2,
   "id": "773c82df",
   "metadata": {},
   "outputs": [
    {
     "name": "stdout",
     "output_type": "stream",
     "text": [
      "(89197, 9)\n",
      "(11121, 8)\n"
     ]
    },
    {
     "data": {
      "text/html": [
       "<div>\n",
       "<style scoped>\n",
       "    .dataframe tbody tr th:only-of-type {\n",
       "        vertical-align: middle;\n",
       "    }\n",
       "\n",
       "    .dataframe tbody tr th {\n",
       "        vertical-align: top;\n",
       "    }\n",
       "\n",
       "    .dataframe thead th {\n",
       "        text-align: right;\n",
       "    }\n",
       "</style>\n",
       "<table border=\"1\" class=\"dataframe\">\n",
       "  <thead>\n",
       "    <tr style=\"text-align: right;\">\n",
       "      <th></th>\n",
       "      <th>user_id</th>\n",
       "      <th>category_id</th>\n",
       "      <th>video_id</th>\n",
       "      <th>age</th>\n",
       "      <th>gender</th>\n",
       "      <th>profession</th>\n",
       "      <th>followers</th>\n",
       "      <th>views</th>\n",
       "      <th>engagement_score</th>\n",
       "    </tr>\n",
       "  </thead>\n",
       "  <tbody>\n",
       "    <tr>\n",
       "      <th>0</th>\n",
       "      <td>19990</td>\n",
       "      <td>37</td>\n",
       "      <td>128</td>\n",
       "      <td>24</td>\n",
       "      <td>Male</td>\n",
       "      <td>Student</td>\n",
       "      <td>180</td>\n",
       "      <td>1000</td>\n",
       "      <td>4.33</td>\n",
       "    </tr>\n",
       "    <tr>\n",
       "      <th>1</th>\n",
       "      <td>5304</td>\n",
       "      <td>32</td>\n",
       "      <td>132</td>\n",
       "      <td>14</td>\n",
       "      <td>Female</td>\n",
       "      <td>Student</td>\n",
       "      <td>330</td>\n",
       "      <td>714</td>\n",
       "      <td>1.79</td>\n",
       "    </tr>\n",
       "    <tr>\n",
       "      <th>2</th>\n",
       "      <td>1840</td>\n",
       "      <td>12</td>\n",
       "      <td>24</td>\n",
       "      <td>19</td>\n",
       "      <td>Male</td>\n",
       "      <td>Student</td>\n",
       "      <td>180</td>\n",
       "      <td>138</td>\n",
       "      <td>4.35</td>\n",
       "    </tr>\n",
       "    <tr>\n",
       "      <th>3</th>\n",
       "      <td>12597</td>\n",
       "      <td>23</td>\n",
       "      <td>112</td>\n",
       "      <td>19</td>\n",
       "      <td>Male</td>\n",
       "      <td>Student</td>\n",
       "      <td>220</td>\n",
       "      <td>613</td>\n",
       "      <td>3.77</td>\n",
       "    </tr>\n",
       "    <tr>\n",
       "      <th>4</th>\n",
       "      <td>13626</td>\n",
       "      <td>23</td>\n",
       "      <td>112</td>\n",
       "      <td>27</td>\n",
       "      <td>Male</td>\n",
       "      <td>Working Professional</td>\n",
       "      <td>220</td>\n",
       "      <td>613</td>\n",
       "      <td>3.13</td>\n",
       "    </tr>\n",
       "  </tbody>\n",
       "</table>\n",
       "</div>"
      ],
      "text/plain": [
       "   user_id  category_id  video_id  age  gender            profession  \\\n",
       "0    19990           37       128   24    Male               Student   \n",
       "1     5304           32       132   14  Female               Student   \n",
       "2     1840           12        24   19    Male               Student   \n",
       "3    12597           23       112   19    Male               Student   \n",
       "4    13626           23       112   27    Male  Working Professional   \n",
       "\n",
       "   followers  views  engagement_score  \n",
       "0        180   1000              4.33  \n",
       "1        330    714              1.79  \n",
       "2        180    138              4.35  \n",
       "3        220    613              3.77  \n",
       "4        220    613              3.13  "
      ]
     },
     "execution_count": 2,
     "metadata": {},
     "output_type": "execute_result"
    }
   ],
   "source": [
    "training_data = pd.read_csv('Dataset/train.csv')\n",
    "testing_data = pd.read_csv('Dataset/test.csv')\n",
    "\n",
    "train = training_data.copy()\n",
    "test = testing_data.copy()\n",
    "\n",
    "del train['row_id']\n",
    "del test['row_id']\n",
    "\n",
    "print(train.shape)\n",
    "print(test.shape)\n",
    "\n",
    "train.head()"
   ]
  },
  {
   "cell_type": "markdown",
   "id": "c267b169",
   "metadata": {},
   "source": [
    "### Preprocessing"
   ]
  },
  {
   "cell_type": "markdown",
   "id": "ff9c3223",
   "metadata": {},
   "source": [
    "Encoding Categorical feature with numerical values"
   ]
  },
  {
   "cell_type": "code",
   "execution_count": 3,
   "id": "3ef55c68",
   "metadata": {},
   "outputs": [],
   "source": [
    "gender_dict = {'Male':0, 'Female':1}\n",
    "profession_dict = {'Working Professional':0, 'Other':1, 'Student':2}\n",
    "\n",
    "train['gender'] = train.gender.replace(gender_dict)\n",
    "train['profession'] = train.profession.replace(profession_dict)\n",
    "\n",
    "test['gender'] = test.gender.replace(gender_dict)\n",
    "test['profession'] = test.profession.replace(profession_dict)"
   ]
  },
  {
   "cell_type": "markdown",
   "id": "723aac11",
   "metadata": {},
   "source": [
    "Creating new features"
   ]
  },
  {
   "cell_type": "code",
   "execution_count": 4,
   "id": "d70d8f10",
   "metadata": {},
   "outputs": [],
   "source": [
    "train['gender/age'] = train['gender'] / train['age']\n",
    "train['gender/views'] = train['gender'] / train['views']\n",
    "train['log(views)/age'] = np.log(train['views']) / train['age']\n",
    "train['user_id**2/age'] = (train['user_id'] ** 2) / train['age']\n",
    "train['category_id**3/age'] = (train['category_id'] ** 3) / train['age']\n",
    "train['age*exp(profession)'] = train['age'] * (np.exp(train['profession']))\n",
    "train['user_id**2*views**3'] = (train['user_id'] ** 2) * (train['views'] ** 3)\n",
    "train['category_id**2/video_id'] = (train['category_id'] ** 2) / train['video_id']\n",
    "train['sqrt(user_id)/followers'] = np.sqrt(train['user_id']) / train['followers']\n",
    "train['log(category_id)/followers'] = np.log(train['category_id']) / train['followers']\n",
    "train['age*user_id'] = train['age'] * train['user_id']\n",
    "train['followers*sqrt(user_id)'] = train['followers'] * np.sqrt(train['user_id'])\n",
    "train['age**2*category_id'] = (train['age'] ** 2) * train['category_id']\n",
    "train['log(user_id**2/age)'] = np.log(train['user_id**2/age'])\n",
    "train['1/age**2*category_id'] = 1 / train['age**2*category_id']\n",
    "train['1/followers*sqrt(user_id)'] = 1 / train['followers*sqrt(user_id)']\n",
    "\n",
    "test['gender/age'] = test['gender'] / test['age']#\n",
    "test['gender/views'] = test['gender'] / test['views']#\n",
    "test['log(views)/age'] = np.log(test['views']) / test['age']#\n",
    "test['user_id**2/age'] = (test['user_id'] ** 2) / test['age']#\n",
    "test['category_id**3/age'] = (test['category_id'] ** 3) / test['age']#\n",
    "test['age*exp(profession)'] = test['age'] * (np.exp(test['profession']))#\n",
    "test['user_id**2*views**3'] = (test['user_id'] ** 2) * (test['views'] ** 3)#\n",
    "test['category_id**2/video_id'] = (test['category_id'] ** 2) / test['video_id']#\n",
    "test['sqrt(user_id)/followers'] = np.sqrt(test['user_id']) / test['followers']#\n",
    "test['log(category_id)/followers'] = np.log(test['category_id']) / test['followers']#\n",
    "test['age*user_id'] = test['age'] * test['user_id']#\n",
    "test['followers*sqrt(user_id)'] = test['followers'] * np.sqrt(test['user_id'])#\n",
    "test['age**2*category_id'] = (test['age'] ** 2) * test['category_id']#\n",
    "test['log(user_id**2/age)'] = np.log(test['user_id**2/age'])\n",
    "test['1/age**2*category_id'] = 1 / test['age**2*category_id']\n",
    "test['1/followers*sqrt(user_id)'] = 1 / test['followers*sqrt(user_id)']"
   ]
  },
  {
   "cell_type": "markdown",
   "id": "0384ef1f",
   "metadata": {},
   "source": [
    "Feature Selection and Train-Test Splitting"
   ]
  },
  {
   "cell_type": "code",
   "execution_count": 5,
   "id": "369f522d",
   "metadata": {},
   "outputs": [],
   "source": [
    "features = ['user_id', 'video_id', 'gender/age', 'gender/views', 'log(views)/age', 'user_id**2/age',\n",
    "            'category_id**3/age', 'age*exp(profession)', 'user_id**2*views**3',\n",
    "            'category_id**2/video_id', 'sqrt(user_id)/followers', 'log(category_id)/followers',\n",
    "            'age*user_id', 'followers*sqrt(user_id)', 'age**2*category_id', 'log(user_id**2/age)',\n",
    "            '1/age**2*category_id', '1/followers*sqrt(user_id)']\n",
    "\n",
    "y = boxcox(train['engagement_score'] + 1, 2.85009)\n",
    "X = train[features]\n",
    "test = test[features]\n",
    "\n",
    "X_train, X_val, y_train, y_val = train_test_split(X, y, test_size = .15, random_state = 89)"
   ]
  },
  {
   "cell_type": "markdown",
   "id": "f5025881",
   "metadata": {},
   "source": [
    "### Model 1"
   ]
  },
  {
   "cell_type": "code",
   "execution_count": null,
   "id": "2ba0ff54",
   "metadata": {},
   "outputs": [],
   "source": [
    "param = {'reg_alpha': 0.5071016819855272,\n",
    "         'reg_lambda': 0.09575110521583012,\n",
    "         'colsample_bytree': 0.31709249417149765,\n",
    "         'subsample': 0.46186005802999774,\n",
    "         'learning_rate': 0.017892817849788113,\n",
    "         'num_leaves': 505,\n",
    "         'min_child_samples': 1,\n",
    "         'min_data_per_groups': 36.6295891093262}"
   ]
  },
  {
   "cell_type": "code",
   "execution_count": null,
   "id": "f5ca6009",
   "metadata": {
    "scrolled": true
   },
   "outputs": [],
   "source": [
    "score_r2 = []\n",
    "pred_list = []\n",
    "\n",
    "fold = KFold(n_splits = 6, shuffle = True, random_state = 42)\n",
    "\n",
    "for train_index, test_index in fold.split(X):\n",
    "    X_train, X_test = X.iloc[train_index], X.iloc[test_index]\n",
    "    y_train, y_test = y[train_index], y[test_index]\n",
    "    \n",
    "    model = LGBMRegressor(**param, random_state = 34, metric = 'rmse', n_estimators = 30000)\n",
    "    model.fit(X_train, y_train, eval_set = [(X_test, y_test)], early_stopping_rounds = 100)\n",
    "    y_pred = model.predict(X_test)\n",
    "    \n",
    "    print('R2 Score:', r2_score(y_test, y_pred))\n",
    "    \n",
    "    score_r2.append(r2_score(y_test, y_pred))\n",
    "    predict = model.predict(test)\n",
    "    pred_list.append(predict)"
   ]
  },
  {
   "cell_type": "code",
   "execution_count": null,
   "id": "71368541",
   "metadata": {},
   "outputs": [],
   "source": [
    "np.mean(score_r2, 0)"
   ]
  },
  {
   "cell_type": "code",
   "execution_count": null,
   "id": "f956fc49",
   "metadata": {},
   "outputs": [],
   "source": [
    "pred4 = (np.mean(pred_list, 0))\n",
    "pred4 = inv_boxcox(pred4, 2.85009) - 1\n",
    "\n",
    "submission = pd.DataFrame({'row_id' : testing_data.row_id, 'engagement_score': pred4})\n",
    "submission.to_csv('prediction.csv', index = False)"
   ]
  },
  {
   "cell_type": "markdown",
   "id": "8da35928",
   "metadata": {},
   "source": [
    "### Model - 2"
   ]
  },
  {
   "cell_type": "code",
   "execution_count": null,
   "id": "7b22ab38",
   "metadata": {},
   "outputs": [],
   "source": [
    "score_r2 = []\n",
    "pred_list = []\n",
    "\n",
    "fold = KFold(n_splits = 8, shuffle = True, random_state = 13)\n",
    "\n",
    "for train_index, test_index in fold.split(X):\n",
    "    X_train, X_test = X.iloc[train_index], X.iloc[test_index]\n",
    "    y_train, y_test = y[train_index], y[test_index]\n",
    "    \n",
    "    model = LGBMRegressor(**param, random_state = 34, metric = 'rmse', n_estimators = 30000)\n",
    "    model.fit(X_train, y_train, eval_set = [(X_test, y_test)], early_stopping_rounds = 100)\n",
    "    y_pred = model.predict(X_test)\n",
    "    \n",
    "    print('R2 Score:', r2_score(y_test, y_pred))\n",
    "    \n",
    "    score_r2.append(r2_score(y_test, y_pred))\n",
    "    predict = model.predict(test)\n",
    "    pred_list.append(predict)"
   ]
  },
  {
   "cell_type": "code",
   "execution_count": null,
   "id": "6647dda0",
   "metadata": {},
   "outputs": [],
   "source": [
    "np.mean(score_r2, 0)"
   ]
  },
  {
   "cell_type": "code",
   "execution_count": null,
   "id": "4950e9b3",
   "metadata": {},
   "outputs": [],
   "source": [
    "pred5 = (np.mean(pred_list, 0))\n",
    "pred5 = inv_boxcox(pred5, 2.85009) - 1\n",
    "\n",
    "submission = pd.DataFrame({'row_id' : testing_data.row_id, 'engagement_score': pred5})\n",
    "submission.to_csv('prediction.csv', index = False)"
   ]
  },
  {
   "cell_type": "markdown",
   "id": "c9eb1bb0",
   "metadata": {},
   "source": [
    "### Averaging"
   ]
  },
  {
   "cell_type": "code",
   "execution_count": null,
   "id": "91281e78",
   "metadata": {},
   "outputs": [],
   "source": [
    "p = (pred4 + pred5) / 2\n",
    "\n",
    "submission = pd.DataFrame({'row_id' : testing_data.row_id, 'engagement_score': p})\n",
    "submission.to_csv('prediction.csv', index = False)"
   ]
  }
 ],
 "metadata": {
  "kernelspec": {
   "display_name": "Python 3",
   "language": "python",
   "name": "python3"
  },
  "language_info": {
   "codemirror_mode": {
    "name": "ipython",
    "version": 3
   },
   "file_extension": ".py",
   "mimetype": "text/x-python",
   "name": "python",
   "nbconvert_exporter": "python",
   "pygments_lexer": "ipython3",
   "version": "3.8.8"
  }
 },
 "nbformat": 4,
 "nbformat_minor": 5
}
